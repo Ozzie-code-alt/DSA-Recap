{
 "cells": [
  {
   "cell_type": "code",
   "execution_count": 1,
   "id": "4edee952",
   "metadata": {},
   "outputs": [],
   "source": [
    "# DSA PYTHON RECAP/PRACTICE FOR TECHNICALS INSTEAD OF JAVASCRIPT BECAUSE OF HOW SHITTY JS IS I FAILED THE MOST IMPORTANT\n",
    "#INTERVIEW I HAD"
   ]
  },
  {
   "cell_type": "code",
   "execution_count": 2,
   "id": "edbd494b",
   "metadata": {},
   "outputs": [
    {
     "name": "stdout",
     "output_type": "stream",
     "text": [
      "Hello WOrld\n"
     ]
    }
   ],
   "source": [
    "print(\"Hello WOrld\")"
   ]
  },
  {
   "cell_type": "code",
   "execution_count": null,
   "id": "ec58b964",
   "metadata": {},
   "outputs": [],
   "source": []
  }
 ],
 "metadata": {
  "kernelspec": {
   "display_name": "Python 3 (ipykernel)",
   "language": "python",
   "name": "python3"
  },
  "language_info": {
   "codemirror_mode": {
    "name": "ipython",
    "version": 3
   },
   "file_extension": ".py",
   "mimetype": "text/x-python",
   "name": "python",
   "nbconvert_exporter": "python",
   "pygments_lexer": "ipython3",
   "version": "3.12.1"
  }
 },
 "nbformat": 4,
 "nbformat_minor": 5
}
